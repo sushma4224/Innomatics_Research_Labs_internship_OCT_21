{
 "cells": [
  {
   "cell_type": "code",
   "execution_count": 1,
   "metadata": {},
   "outputs": [
    {
     "name": "stdout",
     "output_type": "stream",
     "text": [
      "3 2\n",
      "1 5 3\n",
      "3 1\n",
      "5 7\n",
      "1\n"
     ]
    }
   ],
   "source": [
    "n, m = (int(i) for i in input().split())\n",
    "l = map(int, input().strip().split(' '))\n",
    "a = set(map(int, input().strip().split(' ')))\n",
    "b = set(map(int, input().strip().split(' ')))\n",
    "result = 0\n",
    "for i in l:\n",
    "    if i in a:\n",
    "        result += 1\n",
    "    if i in b:\n",
    "        result += -1\n",
    "print(result)"
   ]
  },
  {
   "cell_type": "code",
   "execution_count": 2,
   "metadata": {},
   "outputs": [
    {
     "name": "stdout",
     "output_type": "stream",
     "text": [
      "3 2\n",
      "1 5 3\n",
      "3 1\n",
      "5 7\n",
      "1\n"
     ]
    }
   ],
   "source": [
    "n, m = (int(i) for i in input().split( ))\n",
    "l = map(int, input().strip().split(' '))\n",
    "a = set(map(int, input().strip().split(' ')))\n",
    "b = set(map(int, input().strip().split(' ')))\n",
    "result = 0\n",
    "for i in l:\n",
    "    if i in a:\n",
    "        result += 1\n",
    "    if i in b:\n",
    "        result += -1\n",
    "print(result)\n",
    "# Enter your code here. Read input from STDIN. Print output to STDOUT"
   ]
  },
  {
   "cell_type": "code",
   "execution_count": 3,
   "metadata": {},
   "outputs": [
    {
     "name": "stdout",
     "output_type": "stream",
     "text": [
      "3 2\n",
      "3 2\n"
     ]
    }
   ],
   "source": [
    "n, m = (int(i) for i in input().split( ))\n",
    "print(n,m)"
   ]
  },
  {
   "cell_type": "code",
   "execution_count": 6,
   "metadata": {},
   "outputs": [
    {
     "name": "stdout",
     "output_type": "stream",
     "text": [
      "9\n",
      "1 2 3 4 5 6 7 8 9\n",
      "10\n",
      "pop\n",
      "remove 9\n",
      "discard 9\n",
      "discard 8\n",
      "remove 7\n",
      "pop\n",
      "discard 6\n",
      "remove 5\n",
      "pop\n",
      "discard 5\n",
      "4\n"
     ]
    }
   ],
   "source": [
    "n = int(input())\n",
    "s = set(map(int, input().split()))\n",
    "N = int(input())\n",
    "\n",
    "for i in range(N):\n",
    "    l=input().split()\n",
    "    if l[0]=='pop':\n",
    "        s.pop()\n",
    "    if l[0]=='remove':\n",
    "        s.remove(int(l[1]))\n",
    "    if l[0]=='discard':\n",
    "        s.discard(int(l[1]))\n",
    "print(sum(list(s)))"
   ]
  },
  {
   "cell_type": "code",
   "execution_count": null,
   "metadata": {},
   "outputs": [],
   "source": []
  }
 ],
 "metadata": {
  "kernelspec": {
   "display_name": "Python 3",
   "language": "python",
   "name": "python3"
  },
  "language_info": {
   "codemirror_mode": {
    "name": "ipython",
    "version": 3
   },
   "file_extension": ".py",
   "mimetype": "text/x-python",
   "name": "python",
   "nbconvert_exporter": "python",
   "pygments_lexer": "ipython3",
   "version": "3.8.3"
  }
 },
 "nbformat": 4,
 "nbformat_minor": 4
}
